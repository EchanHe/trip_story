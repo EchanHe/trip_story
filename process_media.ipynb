{
 "cells": [
  {
   "cell_type": "code",
   "execution_count": 54,
   "metadata": {
    "collapsed": true
   },
   "outputs": [],
   "source": [
    "import pandas as pd\n",
    "import numpy as np\n",
    "import os\n",
    "import cv2"
   ]
  },
  {
   "cell_type": "code",
   "execution_count": 56,
   "metadata": {},
   "outputs": [
    {
     "name": "stdout",
     "output_type": "stream",
     "text": [
      "(3024, 4032)\n",
      "(3024, 4032)\n",
      "(2448, 3264)\n",
      "(4032, 3024)\n",
      "(4032, 3024)\n"
     ]
    }
   ],
   "source": [
    "csv_file = \"iceland.csv\"\n",
    "df = pd.read_csv(csv_file,encoding=\"GBK\")\n",
    "\n",
    "result = pd.DataFrame(columns=[\"name\" , \"verti\" , \"ratio\"])\n",
    "## preprocess images\n",
    "for idx, row in df.iterrows():\n",
    "    src = \"media/i\"+row.folder+ \"/\"\n",
    "    \n",
    "    \n",
    "    if os.path.exists(src):\n",
    "        file_src = os.listdir(src)\n",
    "        for img_file in file_src:\n",
    "            # Ev\n",
    "            if not img_file.endswith(\".csv\"):\n",
    "                img = cv2.imread(src+img_file,0)\n",
    "\n",
    "                shape = img.shape\n",
    "                print(img.shape)\n",
    "                if shape[0]>shape[1]:\n",
    "                    vert = True\n",
    "                else:\n",
    "                    vert = False\n",
    "                result.loc[len(result)] = [src+img_file, vert, round(shape[0]/shape[1],2)]\n",
    "\n",
    "#                 result.to_csv(src+\"detail.csv\" , index=False)\n",
    "                \n",
    "                \n",
    "#preprocess videos\n",
    "## preprocess images\n",
    "for idx, row in df.iterrows():\n",
    "    src = \"media/v\"+row.folder+ \"/\"\n",
    "#     result = pd.DataFrame(columns=[\"name\" , \"verti\" , \"ratio\"])\n",
    "    \n",
    "    if os.path.exists(src):\n",
    "        file_src = os.listdir(src)\n",
    "        for img_file in file_src:\n",
    "            # Ev\n",
    "            if (not img_file.endswith(\".csv\")) and (not img_file.endswith(\".jpg\")):\n",
    "                vid = cv2.VideoCapture(src+img_file)\n",
    "                ret, img = vid.read()\n",
    "                \n",
    "                \n",
    "                cv2.imwrite(src +\"cover.jpg\" , frame)\n",
    "                shape = img.shape\n",
    "                if shape[0]>shape[1]:\n",
    "                    vert = True\n",
    "                else:\n",
    "                    vert = False\n",
    "                result.loc[len(result)] = [src+img_file, vert, round(shape[0]/shape[1],2)]\n",
    "\n",
    "result.to_csv(\"media/\"+\"detail.csv\" , index=False)\n",
    "                \n",
    "vid.release()\n",
    "cv2.destroyAllWindows()"
   ]
  },
  {
   "cell_type": "code",
   "execution_count": 41,
   "metadata": {},
   "outputs": [],
   "source": [
    "vid = cv2.VideoCapture('IMG_2523.MOV')"
   ]
  },
  {
   "cell_type": "code",
   "execution_count": 46,
   "metadata": {},
   "outputs": [
    {
     "data": {
      "text/plain": [
       "True"
      ]
     },
     "execution_count": 46,
     "metadata": {},
     "output_type": "execute_result"
    }
   ],
   "source": [
    "vid\n",
    "ret, frame = vid.read()\n",
    "frame.shape\n",
    "cv2.imwrite(\"nail.jpg\" , frame)"
   ]
  }
 ],
 "metadata": {
  "kernelspec": {
   "display_name": "Python 3",
   "language": "python",
   "name": "python3"
  },
  "language_info": {
   "codemirror_mode": {
    "name": "ipython",
    "version": 3
   },
   "file_extension": ".py",
   "mimetype": "text/x-python",
   "name": "python",
   "nbconvert_exporter": "python",
   "pygments_lexer": "ipython3",
   "version": "3.6.3"
  }
 },
 "nbformat": 4,
 "nbformat_minor": 2
}
