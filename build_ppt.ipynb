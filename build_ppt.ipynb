{
 "cells": [
  {
   "cell_type": "code",
   "execution_count": 103,
   "metadata": {
    "collapsed": true
   },
   "outputs": [],
   "source": [
    "from pptx import Presentation\n",
    "from pptx.util import Inches\n",
    "import pandas as pd\n",
    "import os\n",
    "from pptx.util import Pt"
   ]
  },
  {
   "cell_type": "code",
   "execution_count": 104,
   "metadata": {
    "collapsed": true
   },
   "outputs": [],
   "source": [
    "csv_file = \"iceland.csv\"\n",
    "df = pd.read_csv(csv_file,encoding=\"GBK\")"
   ]
  },
  {
   "cell_type": "code",
   "execution_count": 105,
   "metadata": {},
   "outputs": [
    {
     "name": "stdout",
     "output_type": "stream",
     "text": [
      "\n",
      "\n"
     ]
    }
   ],
   "source": [
    "\n",
    "### Text and images format setting.\n",
    "left_position = [0.5,6,0.5,6]\n",
    "top_position = [5,5,2,2]\n",
    "text_top_offset = 0.4\n",
    "text_left_offset = 0.0\n",
    "\n",
    "\n",
    "prs = Presentation()\n",
    "\n",
    "detail = pd.read_csv(\"media/detail.csv\")\n",
    "detail = detail.set_index(\"name\")\n",
    "for idx, row in df.iterrows():\n",
    "    layout = row.layout\n",
    "    title_text = row.title\n",
    "    sub_text = str(row.subtitle)\n",
    "\n",
    "    slide_layout = prs.slide_layouts[layout]\n",
    "    slide = prs.slides.add_slide(slide_layout)\n",
    "    title = slide.shapes.title\n",
    "    subtitle = slide.placeholders[1]\n",
    "\n",
    "    title.text = title_text\n",
    "    subtitle.text = sub_text\n",
    "    \n",
    "    #Add images:\n",
    "    if row.type == 'img':\n",
    "        src = \"media/i\"+row.folder+ \"/\"\n",
    "        if not os.path.exists(src):\n",
    "            os.makedirs(src)\n",
    "        file_src = os.listdir(src)\n",
    "\n",
    "        # Read every images in the folder.\n",
    "        for idx, img_file in enumerate(file_src):\n",
    "            if not img_file.endswith(\".csv\"):\n",
    "                top = Inches(top_position[idx])\n",
    "                left = Inches(left_position[idx])\n",
    "                width = 3\n",
    "#                 if detail.loc[src+img_file,'verti']:\n",
    "                pic = slide.shapes.add_picture(src+img_file, left, top, width=Inches(width))\n",
    "                height = pic.height.inches\n",
    "\n",
    "                if detail.loc[src+img_file,'verti']:\n",
    "                    pic.rotation = 90\n",
    "                    text_top_offset = text_top_offset + (width-height)/2\n",
    "                    text_left_offset = text_left_offset + (width-height)/2\n",
    "                    print()\n",
    "                # Add text to the picture\n",
    "                txBox = slide.shapes.add_textbox(Inches(left_position[idx]+text_left_offset),\n",
    "                                                 Inches(top_position[idx]-text_top_offset), Inches(1), Inches(1))\n",
    "                text_frame = txBox.text_frame\n",
    "                p = text_frame.paragraphs[0]\n",
    "                run = p.add_run()\n",
    "                run.text = str(detail.loc[src+img_file,'text'])\n",
    "                font = run.font\n",
    "                font.size = Pt(16)\n",
    "                    \n",
    "                    \n",
    "    #insert video into the slide.\n",
    "    if row.type == 'video':\n",
    "        src = \"media/v\"+row.folder+ \"/\"\n",
    "        if not os.path.exists(src):\n",
    "            os.makedirs(src)\n",
    "        file_src = os.listdir(src)\n",
    "        top = Inches(2)\n",
    "        left = Inches(3)\n",
    "        width = 6\n",
    "        height = width * detail.loc[src+vid, 'ratio' ]\n",
    "        \n",
    "        for vid in file_src:\n",
    "            if (not vid.endswith(\".csv\")) and (not vid.endswith(\".jpg\")):\n",
    "            # Ev\n",
    "                movie = slide.shapes.add_movie(src+vid, left, top, Inches(width), Inches(height),\n",
    "                                               poster_frame_image = src+\"cover.jpg\", mime_type='video/mov')\n",
    "    \n",
    "prs.save('test.pptx')"
   ]
  },
  {
   "cell_type": "code",
   "execution_count": 106,
   "metadata": {},
   "outputs": [
    {
     "data": {
      "text/plain": [
       "<pptx.shapes.placeholder.SlidePlaceholder at 0x22c5b351c88>"
      ]
     },
     "execution_count": 106,
     "metadata": {},
     "output_type": "execute_result"
    }
   ],
   "source": [
    "subtitle\n",
    "# movie.top.inches"
   ]
  },
  {
   "cell_type": "code",
   "execution_count": null,
   "metadata": {
    "collapsed": true
   },
   "outputs": [],
   "source": []
  }
 ],
 "metadata": {
  "kernelspec": {
   "display_name": "Python 3",
   "language": "python",
   "name": "python3"
  },
  "language_info": {
   "codemirror_mode": {
    "name": "ipython",
    "version": 3
   },
   "file_extension": ".py",
   "mimetype": "text/x-python",
   "name": "python",
   "nbconvert_exporter": "python",
   "pygments_lexer": "ipython3",
   "version": "3.6.3"
  }
 },
 "nbformat": 4,
 "nbformat_minor": 2
}
